{
 "cells": [
  {
   "cell_type": "markdown",
   "id": "079af414",
   "metadata": {},
   "source": [
    "# Processamento de CSVs e cálculo de média\n",
    "\n",
    "Este notebook percorre todos os arquivos CSV com sufixo `_DataN.csv` em um diretório,\n",
    "agrupa-os pelo prefixo antes de `_DataN.csv` e calcula a média linha a linha para cada grupo.\n",
    "Gera um arquivo `<prefix>_avg.csv` para cada conjunto de réplicas."
   ]
  },
  {
   "cell_type": "code",
   "execution_count": 4,
   "id": "9b96b77e",
   "metadata": {},
   "outputs": [],
   "source": [
    "import os\n",
    "import re\n",
    "import pandas as pd\n",
    "from glob import glob\n"
   ]
  },
  {
   "cell_type": "code",
   "execution_count": 6,
   "id": "e589c334",
   "metadata": {},
   "outputs": [],
   "source": [
    "# --- caminho da pasta onde estão seus CSVs ---\n",
    "input_dir = r\"C:\\\\Supaero\\\\Stage\\\\Codigo3\\\\Analysis\\\\Data\\\\Combination\"\n",
    "# encontra todos os arquivos .csv\n",
    "csv_paths = glob(os.path.join(input_dir, \"*.csv\"))"
   ]
  },
  {
   "cell_type": "code",
   "execution_count": 7,
   "id": "c0ea8886",
   "metadata": {},
   "outputs": [],
   "source": [
    "# agrupa por prefixo \"<algo>_Data\" (por ex. \"A4m_B50u_D5m\")\n",
    "groups = {}\n",
    "pattern = re.compile(r'^(.+)_Data\\d+\\.csv$', re.IGNORECASE)\n",
    "for path in csv_paths:\n",
    "    fn = os.path.basename(path)\n",
    "    m = pattern.match(fn)\n",
    "    if m:\n",
    "        prefix = m.group(1)\n",
    "        groups.setdefault(prefix, []).append(path)\n",
    "\n",
    "# para cada prefixo, calcula a média e salva \"<prefix>_avg.csv\"\n",
    "for prefix, files in groups.items():\n",
    "    # lê todos os Data*.csv daquele grupo, na ordem Data0, Data1, ...\n",
    "    files = sorted(files, key=lambda x: int(re.search(r'_Data(\\d+)\\.csv$', x).group(1)))\n",
    "    dfs   = [pd.read_csv(f) for f in files]\n",
    "    # garante que todos têm mesmas colunas e índices\n",
    "    avg_df = sum(dfs) / len(dfs)\n",
    "    # salva sem incluir índice extra\n",
    "    out_path = os.path.join(input_dir, f\"{prefix}_avg.csv\")\n",
    "    avg_df.to_csv(out_path, index=False)\n",
    "    print(f\"Gerado: {out_path}\")"
   ]
  }
 ],
 "metadata": {
  "kernelspec": {
   "display_name": "Python 3",
   "language": "python",
   "name": "python3"
  },
  "language_info": {
   "codemirror_mode": {
    "name": "ipython",
    "version": 3
   },
   "file_extension": ".py",
   "mimetype": "text/x-python",
   "name": "python",
   "nbconvert_exporter": "python",
   "pygments_lexer": "ipython3",
   "version": "3.11.9"
  }
 },
 "nbformat": 4,
 "nbformat_minor": 5
}
