{
 "cells": [
  {
   "cell_type": "markdown",
   "id": "fc74f6a1",
   "metadata": {},
   "source": [
    "# Análise de Respostas Médias\n",
    "\n",
    "Este notebook lê os arquivos `*_avg.csv` gerados pela simulação, plota as respostas média para cada combinação de parâmetros (α, β, δ), calcula métricas de controle (Mp, Tr e Ts), seleciona as 10 melhores combinações e plota essas respostas para análise."
   ]
  },
  {
   "cell_type": "code",
   "execution_count": null,
   "id": "f67c2c1a",
   "metadata": {},
   "outputs": [],
   "source": [
    "import pandas as pd\n",
    "import numpy as np\n",
    "import glob\n",
    "import os\n",
    "import re\n",
    "import matplotlib.pyplot as plt\n",
    "%matplotlib inline"
   ]
  },
  {
   "cell_type": "markdown",
   "id": "f52556ab",
   "metadata": {},
   "source": [
    "## 1. Função para ler arquivos `_avg.csv`\n",
    "Os arquivos têm linhas com 8 valores de estado e objetivo, seguidos de tempo e número de trial."
   ]
  },
  {
   "cell_type": "code",
   "execution_count": null,
   "id": "920aed12",
   "metadata": {},
   "outputs": [],
   "source": [
    "def read_avg_csv(filepath):\n",
    "    t_list = []\n",
    "    y_list = []\n",
    "    with open(filepath, 'r') as f:\n",
    "        lines = f.readlines()\n",
    "    for line in lines[1:]:  # pula cabeçalho\n",
    "        if not line.strip():\n",
    "            continue\n",
    "        parts = line.strip().split()\n",
    "        if len(parts) < 10:\n",
    "            continue\n",
    "        x_real = [float(v) for v in parts[0:4]]\n",
    "        t = float(parts[8])\n",
    "        t_list.append(t)\n",
    "        y_list.append(x_real[0])  # somente o primeiro estado\n",
    "    return np.array(t_list), np.array(y_list)"
   ]
  },
  {
   "cell_type": "markdown",
   "id": "0aa7baaa",
   "metadata": {},
   "source": [
    "## 2. Leitura dos arquivos `_avg.csv` e extração de parâmetros"
   ]
  },
  {
   "cell_type": "code",
   "execution_count": null,
   "id": "611175d2",
   "metadata": {},
   "outputs": [],
   "source": [
    "# Ajuste o diretório se necessário\n",
    "directory = '.'\n",
    "\n",
    "# Localiza arquivos de média\n",
    "files = glob.glob(os.path.join(directory, '*_avg.csv'))\n",
    "\n",
    "# Regex para extrair α (mili), β (micro) e δ (mili)\n",
    "pattern = re.compile(r'A(?P<alpha>\\d+)m_B(?P<beta>\\d+)u_D(?P<delta>\\d+)m_avg\\.csv')\n",
    "\n",
    "data = []\n",
    "for f in sorted(files):\n",
    "    m = pattern.match(os.path.basename(f))\n",
    "    if not m:\n",
    "        continue\n",
    "    alpha = int(m.group('alpha')) / 1000.0\n",
    "    beta = int(m.group('beta')) / 1e6\n",
    "    delta = int(m.group('delta')) / 1000.0\n",
    "    t, y = read_avg_csv(f)\n",
    "    data.append({'alpha': alpha, 'beta': beta, 'delta': delta, 't': t, 'y': y})\n",
    "print(f'Carregadas {len(data)} respostas médias.')"
   ]
  },
  {
   "cell_type": "markdown",
   "id": "ceda7db5",
   "metadata": {},
   "source": [
    "## 3. Plot de todas as respostas médias"
   ]
  },
  {
   "cell_type": "code",
   "execution_count": null,
   "id": "733d1157",
   "metadata": {},
   "outputs": [],
   "source": [
    "plt.figure(figsize=(10, 6))\n",
    "for entry in data:\n",
    "    label = f\"α={entry['alpha']}, β={entry['beta']}, δ={entry['delta']}\"\n",
    "    plt.plot(entry['t'], entry['y'], label=label)\n",
    "plt.title('Respostas Médias - Todas Combinações')\n",
    "plt.xlabel('Tempo (s)')\n",
    "plt.ylabel('Saída (Estado 0)')\n",
    "plt.legend(fontsize='small', ncol=2)\n",
    "plt.show()"
   ]
  },
  {
   "cell_type": "markdown",
   "id": "79c9e83b",
   "metadata": {},
   "source": [
    "## 4. Cálculo de métricas de desempenho (Mp, Tr, Ts)"
   ]
  },
  {
   "cell_type": "code",
   "execution_count": null,
   "id": "497e59ae",
   "metadata": {},
   "outputs": [],
   "source": [
    "def compute_metrics(t, y):\n",
    "    y_final = y[-1]\n",
    "    Mp = (np.max(y) - y_final) / y_final * 100 if y_final != 0 else np.nan\n",
    "    # Rise time entre 10% e 90%\n",
    "    y10 = 0.1 * y_final\n",
    "    y90 = 0.9 * y_final\n",
    "    try:\n",
    "        t10 = t[np.where(y >= y10)[0][0]]\n",
    "        t90 = t[np.where(y >= y90)[0][0]]\n",
    "        Tr = t90 - t10\n",
    "    except IndexError:\n",
    "        Tr = np.nan\n",
    "    # Settling time ±2%\n",
    "    tol = 0.02 * y_final\n",
    "    idx = np.where(np.abs(y - y_final) > tol)[0]\n",
    "    Ts = t[idx[-1]] if len(idx) > 0 else 0.0\n",
    "    return Mp, Tr, Ts"
   ]
  },
  {
   "cell_type": "markdown",
   "id": "bb57afa6",
   "metadata": {},
   "source": [
    "## 5. Cálculo de métricas para cada combinação"
   ]
  },
  {
   "cell_type": "code",
   "execution_count": null,
   "id": "91c55ab9",
   "metadata": {},
   "outputs": [],
   "source": [
    "metrics = []\n",
    "for entry in data:\n",
    "    Mp, Tr, Ts = compute_metrics(entry['t'], entry['y'])\n",
    "    metrics.append({'alpha': entry['alpha'], 'beta': entry['beta'], 'delta': entry['delta'], 'Mp': Mp, 'Tr': Tr, 'Ts': Ts})\n",
    "df_metrics = pd.DataFrame(metrics)\n",
    "df_metrics"
   ]
  },
  {
   "cell_type": "markdown",
   "id": "c2531666",
   "metadata": {},
   "source": [
    "## 6. Seleção das 10 melhores combinações\n",
    "Critério: soma dos ranks de Mp, Tr e Ts (menor é melhor)"
   ]
  },
  {
   "cell_type": "code",
   "execution_count": null,
   "id": "04cb1c09",
   "metadata": {},
   "outputs": [],
   "source": [
    "df_rank = df_metrics.copy()\n",
    "for col in ['Mp', 'Tr', 'Ts']:\n",
    "    df_rank[f'{col}_rank'] = df_rank[col].rank(method='min')\n",
    "df_rank['rank_sum'] = df_rank[['Mp_rank', 'Tr_rank', 'Ts_rank']].sum(axis=1)\n",
    "df_best = df_rank.nsmallest(10, 'rank_sum')\n",
    "df_best"
   ]
  },
  {
   "cell_type": "markdown",
   "id": "cc112e6a",
   "metadata": {},
   "source": [
    "## 7. Plot das 10 melhores respostas"
   ]
  },
  {
   "cell_type": "code",
   "execution_count": null,
   "id": "8e99a920",
   "metadata": {},
   "outputs": [],
   "source": [
    "plt.figure(figsize=(10, 6))\n",
    "for _, row in df_best.iterrows():\n",
    "    e = next(e for e in data if (e['alpha'] == row['alpha'] and e['beta'] == row['beta'] and e['delta'] == row['delta']))\n",
    "    label = f\"α={row['alpha']}, β={row['beta']}, δ={row['delta']}\"\n",
    "    plt.plot(e['t'], e['y'], label=label)\n",
    "plt.title('Respostas Médias - Top 10 Combinações')\n",
    "plt.xlabel('Tempo (s)')\n",
    "plt.ylabel('Saída (Estado 0)')\n",
    "plt.legend(fontsize='small')\n",
    "plt.show()"
   ]
  }
 ],
 "metadata": {},
 "nbformat": 4,
 "nbformat_minor": 5
}
