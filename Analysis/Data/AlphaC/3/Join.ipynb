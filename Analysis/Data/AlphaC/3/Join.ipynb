{
 "cells": [
  {
   "cell_type": "code",
   "execution_count": 1,
   "metadata": {},
   "outputs": [],
   "source": [
    "import pandas as pd\n",
    "import glob\n",
    "import re\n",
    "import os"
   ]
  },
  {
   "cell_type": "code",
   "execution_count": 2,
   "metadata": {},
   "outputs": [],
   "source": [
    "def read_and_parse(file_path):\n",
    "    \"\"\"\n",
    "    Lê um CSV no formato:\n",
    "      - 1ª linha de cabeçalho (pulada)\n",
    "      - Linhas: <State0 ... StateN>  Time  Trial\n",
    "      - Possíveis linhas em branco\n",
    "    Retorna DataFrame com colunas State0..StateN, Time e Trial.\n",
    "    \"\"\"\n",
    "    df = pd.read_csv(\n",
    "        file_path,\n",
    "        sep=r\"\\s+|\\t+\",\n",
    "        engine=\"python\",\n",
    "        header=None,\n",
    "        skiprows=1,\n",
    "        skip_blank_lines=True\n",
    "    ).dropna(how='all')\n",
    "    \n",
    "    total_cols = df.shape[1]\n",
    "    n_states = total_cols - 2\n",
    "    state_cols = [f\"State{i}\" for i in range(n_states)]\n",
    "    df.columns = state_cols + [\"Time\", \"Trial\"]\n",
    "    return df\n"
   ]
  },
  {
   "cell_type": "code",
   "execution_count": 3,
   "metadata": {},
   "outputs": [],
   "source": [
    "def average_trials_all():\n",
    "    \"\"\"\n",
    "    Para cada prefixo <namebase> (ex: 'Beta1') encontrado em arquivos\n",
    "    Beta1Data0.csv, Beta1Data1.csv, …,\n",
    "    faz a média das trials por Time e salva Beta1Data_avg.csv.\n",
    "    \"\"\"\n",
    "    pattern = re.compile(r\"(.+?)Data\\d+\\.csv$\")\n",
    "    groups = {}\n",
    "    for path in glob.glob(\"*.csv\"):\n",
    "        m = pattern.match(path)\n",
    "        if m:\n",
    "            prefix = m.group(1)\n",
    "            groups.setdefault(prefix, []).append(path)\n",
    "    \n",
    "    if not groups:\n",
    "        print(\"⚠️ Nenhum arquivo '*DataN.csv' encontrado.\")\n",
    "        return\n",
    "    \n",
    "    for prefix, files in groups.items():\n",
    "        print(f\"Processando '{prefix}': {len(files)} arquivos\")\n",
    "        dfs = [read_and_parse(f) for f in sorted(files)]\n",
    "        all_df = pd.concat(dfs, ignore_index=True)\n",
    "        avg_df = all_df.groupby(\"Time\", as_index=False).mean()\n",
    "        out_name = f\"{prefix}Data_avg.csv\"\n",
    "        avg_df.to_csv(out_name, index=False)\n",
    "        print(f\"→ Salvo: {out_name}\")\n"
   ]
  },
  {
   "cell_type": "code",
   "execution_count": 4,
   "metadata": {},
   "outputs": [
    {
     "name": "stdout",
     "output_type": "stream",
     "text": [
      "Processando 'D0e-05': 3 arquivos\n",
      "→ Salvo: D0e-05Data_avg.csv\n",
      "Processando 'D1e-05': 3 arquivos\n",
      "→ Salvo: D1e-05Data_avg.csv\n",
      "Processando 'D2e-05': 3 arquivos\n",
      "→ Salvo: D2e-05Data_avg.csv\n",
      "Processando 'D3e-05': 3 arquivos\n",
      "→ Salvo: D3e-05Data_avg.csv\n",
      "Processando 'D4e-05': 3 arquivos\n",
      "→ Salvo: D4e-05Data_avg.csv\n",
      "Processando 'D5e-05': 3 arquivos\n",
      "→ Salvo: D5e-05Data_avg.csv\n"
     ]
    }
   ],
   "source": [
    "if __name__ == \"__main__\":\n",
    "    average_trials_all()\n"
   ]
  }
 ],
 "metadata": {
  "kernelspec": {
   "display_name": "Python 3",
   "language": "python",
   "name": "python3"
  },
  "language_info": {
   "codemirror_mode": {
    "name": "ipython",
    "version": 3
   },
   "file_extension": ".py",
   "mimetype": "text/x-python",
   "name": "python",
   "nbconvert_exporter": "python",
   "pygments_lexer": "ipython3",
   "version": "3.11.9"
  },
  "orig_nbformat": 4
 },
 "nbformat": 4,
 "nbformat_minor": 2
}
